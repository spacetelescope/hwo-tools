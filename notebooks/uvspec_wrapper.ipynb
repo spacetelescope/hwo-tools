{
 "cells": [
  {
   "cell_type": "markdown",
   "id": "8b3735ba-978b-40d7-b6f8-af83fa002aa9",
   "metadata": {},
   "source": [
    "## Basic UVI ETC calculations "
   ]
  },
  {
   "cell_type": "markdown",
   "id": "de56048d-ae24-4da4-8eab-0f1b245f05ad",
   "metadata": {},
   "source": [
    "Illustration of the simple wrapper for the HWO UVI spectrograph. This notebook uses two helper funcctions imported from the syotools module to (1) calculate SNR given a telescope/instrument/exposure time (uvspec_snr function) and (2) calculate exposure time given a telescope/instrument/SNR goal. "
   ]
  },
  {
   "cell_type": "markdown",
   "id": "480cbfc3-0122-4b28-8515-3918f2b80f80",
   "metadata": {},
   "source": [
    "First, import the wrapper functions (make sure you have activated the hwotools environment). "
   ]
  },
  {
   "cell_type": "code",
   "execution_count": null,
   "id": "cd5859f8",
   "metadata": {},
   "outputs": [],
   "source": [
    "from syotools.wrappers.uvspec import uvspec_snr, uvspec_exptime"
   ]
  },
  {
   "cell_type": "markdown",
   "id": "69e2354d-be60-4c5d-8d9d-538045ce20b9",
   "metadata": {},
   "source": [
    "First we will look at the function for computing SNR from an instrument, spectrum, and given exptime."
   ]
  },
  {
   "cell_type": "code",
   "execution_count": null,
   "id": "31a6236e-7956-433c-8ebf-4da2f992b99d",
   "metadata": {},
   "outputs": [],
   "source": [
    "help(uvspec_snr)"
   ]
  },
  {
   "cell_type": "code",
   "execution_count": null,
   "id": "3432b0e8",
   "metadata": {},
   "outputs": [],
   "source": [
    "wave120, snr120, uvi = uvspec_snr('EAC1', 'G120M', 'orion', 19, 3.) \n",
    "wave150, snr150, uvi = uvspec_snr('EAC1', 'G150M', 'orion', 19, 3.) \n",
    "wave180, snr180, uvi = uvspec_snr('EAC1', 'G180M', 'orion', 19, 3.) \n",
    "\n",
    "wave300, snr300, uvi = uvspec_snr('EAC1', 'G300M', 'orion', 19, 1.) "
   ]
  },
  {
   "cell_type": "code",
   "execution_count": null,
   "id": "89b69e34",
   "metadata": {},
   "outputs": [],
   "source": [
    "import matplotlib.pyplot as plt \n",
    "\n",
    "plt.plot(wave120, snr120, label='G120M')\n",
    "plt.plot(wave150, snr150, label='G150M') \n",
    "plt.plot(wave180, snr180, label='G180M') \n",
    "plt.plot(wave300, snr300, label='G300M') \n",
    "\n",
    "plt.legend() \n",
    "plt.xlabel('Wavelength [Angstrom]') \n",
    "plt.ylabel('SNR per pixel') "
   ]
  },
  {
   "cell_type": "markdown",
   "id": "2466308f-10a3-46e4-8585-de682ec25b61",
   "metadata": {},
   "source": [
    "Next, we will look at the function for computing exptime from an instrument, spectrum, and given SNR."
   ]
  },
  {
   "cell_type": "code",
   "execution_count": null,
   "id": "5b26285b",
   "metadata": {},
   "outputs": [],
   "source": [
    "#                                                tel.    mode. template fuvmag  snrgoal \n",
    "wave120, exp120, uvi = uvspec_exptime('EAC1', 'G120M', 'flat', 19,      10.) \n",
    "wave150, exp150, uvi = uvspec_exptime('EAC1', 'G150M', 'flat', 19,      10.) \n",
    "wave180, exp180, uvi = uvspec_exptime('EAC1', 'G180M', 'flat', 19,      10.) \n",
    "wave300, exp300, uvi = uvspec_exptime('EAC1', 'G300M', 'flat', 19,      10.) "
   ]
  },
  {
   "cell_type": "code",
   "execution_count": null,
   "id": "eac21b93",
   "metadata": {},
   "outputs": [],
   "source": [
    "plt.plot(wave120, exp120, label='G120M')\n",
    "plt.plot(wave150, exp150, label='G150M') \n",
    "plt.plot(wave180, exp180, label='G180M') \n",
    "plt.plot(wave300, exp300, label='G300M') \n",
    "\n",
    "plt.legend() \n",
    "plt.ylim(0, 10000)\n",
    "plt.xlabel('Wavelength [Angstrom]') \n",
    "_ = plt.ylabel('SNR per pixel') "
   ]
  },
  {
   "cell_type": "markdown",
   "id": "fd36a42f-87bb-4962-b215-a3721538a62a",
   "metadata": {},
   "source": [
    "#### NOTE: the uvspec_exptime function returns the time it would take to reach the snr_goal value at each pixel.  These SNR results cannot be obtained all at the same time! The system response varies with wavelength, but all wavelengths are observed at once for any given grating choice. So, use this to determine how long it would take to achive your SNR goal at your favorite wavelength, and disregard the other wavelengths in that trace.\n"
   ]
  },
  {
   "cell_type": "code",
   "execution_count": null,
   "id": "4502dd25",
   "metadata": {},
   "outputs": [],
   "source": []
  },
  {
   "cell_type": "code",
   "execution_count": null,
   "id": "5b248466",
   "metadata": {},
   "outputs": [],
   "source": []
  },
  {
   "cell_type": "code",
   "execution_count": null,
   "id": "dadf47dd",
   "metadata": {},
   "outputs": [],
   "source": []
  }
 ],
 "metadata": {
  "kernelspec": {
   "display_name": "Python 3 (ipykernel)",
   "language": "python",
   "name": "python3"
  },
  "language_info": {
   "codemirror_mode": {
    "name": "ipython",
    "version": 3
   },
   "file_extension": ".py",
   "mimetype": "text/x-python",
   "name": "python",
   "nbconvert_exporter": "python",
   "pygments_lexer": "ipython3",
   "version": "3.9.15"
  }
 },
 "nbformat": 4,
 "nbformat_minor": 5
}
